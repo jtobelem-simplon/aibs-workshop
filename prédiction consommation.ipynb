{
 "cells": [
  {
   "cell_type": "markdown",
   "metadata": {},
   "source": [
    "# Projet de prédiction sur la consommation éléctrique en IDF\n",
    "\n",
    "Vous vous trouvez dans un notebook python. Vous pouvez executer les cellules de code en faisant : `shift+entré`\n",
    "\n",
    "## Rappels\n",
    "\n",
    "Rien à executer dans cette partie.\n",
    "\n",
    "### Source des données\n",
    "\n",
    "Les données sont disponibles sur le site de la RTE au format annuel, une donnée toutes les 15min : <https://www.rte-france.com/fr/eco2mix/eco2mix-telechargement>\n",
    "\n",
    "### Prédiction sur une série temporelle\n",
    "\n",
    "Le but d'une prédiction sur une série temporelle est de prolonger les phénomènes de :\n",
    "\n",
    "- tendance\n",
    "- saison\n",
    "- bruit\n",
    "- vacance\n",
    "\n",
    "### Nettoyage des données\n",
    "\n",
    "Déjà fait!\n",
    "\n",
    "- valeurs manquantes\n",
    "- valeurs abérrantes\n",
    "- génération de colonnes\n",
    "\n",
    "### Utilisation de pandas (dataset) et fbprohet (ml)\n",
    "\n",
    "Nous allons utiliser deux modules python très utilisés dans le monde de la donnée :\n",
    "\n",
    "- <https://pandas.pydata.org/>\n",
    "- <https://facebook.github.io/prophet/docs/quick_start.html>\n",
    "\n",
    "---\n",
    "\n",
    "## Setup de l'environnement\n",
    "\n",
    "Vérifiez que l'environnement est bien configuré : \n",
    "\n",
    "> Executez la cellule suivante (si pas d'erreur, tout va bien) :"
   ]
  },
  {
   "cell_type": "code",
   "execution_count": null,
   "metadata": {
    "pycharm": {
     "is_executing": false
    }
   },
   "outputs": [],
   "source": [
    "import pandas as pd\n",
    "from fbprophet import Prophet"
   ]
  },
  {
   "cell_type": "markdown",
   "metadata": {},
   "source": [
    "---\n",
    "\n",
    "## Chargement des données\n",
    "\n",
    "Vous allez maintenant importer le fichier csv des données nettoyé. Il va falloir téléverser (=uploader:) ce fichier sur le serveur (avec votre nom, puisque tout le monde partage le même espace)\n",
    "\n",
    "> Puis executez la cellule suivante (un tableau devrai s'afficher avec les premières valeurs) :"
   ]
  },
  {
   "cell_type": "code",
   "execution_count": null,
   "metadata": {},
   "outputs": [],
   "source": [
    "df = pd.read_csv('data/test.csv')\n",
    "df.head()"
   ]
  },
  {
   "cell_type": "markdown",
   "metadata": {},
   "source": [
    "---\n",
    "\n",
    "## Prédiction avec fbprophet\n",
    "\n",
    "Vous allez pouvoir utiliser facebookprophet sur le dataframe précédent (df).\n",
    "Réglez le nombre de périodes (en heure) pour faire une prédiction sur 5 jours (combien d'heures dans 5 jours?)\n",
    "\n",
    "> Puis executez la cellule suivante (c'est un peu long..):\n",
    "\n",
    "Vous recevez un avertissement, modifiez la 1ère ligne en `Prophet(changepoint_prior_scale=0.01, weekly_seasonality=True).fit(df)` pour prendre en compte la saisonnalité hébdomadaire.\n",
    "\n",
    "> Executez à nouveau la cellule suivante (c'est un peu long..):"
   ]
  },
  {
   "cell_type": "code",
   "execution_count": null,
   "metadata": {},
   "outputs": [],
   "source": [
    "m = Prophet(changepoint_prior_scale=0.01,weekly_seasonality=True).fit(df)\n",
    "future = m.make_future_dataframe(periods=5*24, freq='H')\n",
    "fcst = m.predict(future)"
   ]
  },
  {
   "cell_type": "markdown",
   "metadata": {},
   "source": [
    "---\n",
    "\n",
    "## Représentation de la prédiction\n",
    "\n",
    "Tracez la figure et observez comment votre modèle se comporte sur les données passées, et s'il prolonge correctement la série sur les 5 jours suivants.\n",
    "\n",
    "> Executez la cellule suivante :"
   ]
  },
  {
   "cell_type": "code",
   "execution_count": null,
   "metadata": {},
   "outputs": [],
   "source": [
    "fig = m.plot(fcst)"
   ]
  },
  {
   "cell_type": "code",
   "execution_count": null,
   "metadata": {},
   "outputs": [],
   "source": []
  }
 ],
 "metadata": {
  "kernelspec": {
   "display_name": "Python 3",
   "language": "python",
   "name": "python3"
  },
  "language_info": {
   "codemirror_mode": {
    "name": "ipython",
    "version": 3
   },
   "file_extension": ".py",
   "mimetype": "text/x-python",
   "name": "python",
   "nbconvert_exporter": "python",
   "pygments_lexer": "ipython3",
   "version": "3.8.3"
  },
  "toc": {
   "base_numbering": 1,
   "nav_menu": {},
   "number_sections": true,
   "sideBar": true,
   "skip_h1_title": true,
   "title_cell": "Table of Contents",
   "title_sidebar": "Contents",
   "toc_cell": false,
   "toc_position": {},
   "toc_section_display": true,
   "toc_window_display": true
  }
 },
 "nbformat": 4,
 "nbformat_minor": 2
}
